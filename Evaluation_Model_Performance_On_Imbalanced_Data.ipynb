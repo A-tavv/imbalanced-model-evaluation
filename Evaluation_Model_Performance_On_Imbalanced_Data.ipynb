{
  "nbformat": 4,
  "nbformat_minor": 0,
  "metadata": {
    "colab": {
      "provenance": [],
      "include_colab_link": true
    },
    "kernelspec": {
      "name": "python3",
      "display_name": "Python 3"
    },
    "language_info": {
      "name": "python"
    }
  },
  "cells": [
    {
      "cell_type": "markdown",
      "metadata": {
        "id": "view-in-github",
        "colab_type": "text"
      },
      "source": [
        "<a href=\"https://colab.research.google.com/github/A-tavv/imbalanced-model-evaluation/blob/main/Evaluation_Model_Performance_On_Imbalanced_Data.ipynb\" target=\"_parent\"><img src=\"https://colab.research.google.com/assets/colab-badge.svg\" alt=\"Open In Colab\"/></a>"
      ]
    },
    {
      "cell_type": "code",
      "execution_count": null,
      "metadata": {
        "id": "RuoAez06JgO1",
        "collapsed": true
      },
      "outputs": [],
      "source": [
        "import pandas as pd\n",
        "import numpy as np\n",
        "import random\n",
        "from sklearn.model_selection import train_test_split, cross_val_score\n",
        "from sklearn.neighbors import KNeighborsClassifier\n",
        "import matplotlib.pyplot as plt\n",
        "from datetime import datetime\n",
        "from sklearn.metrics import f1_score\n",
        "\n",
        "untouchedData =  pd.read_csv('waveform.data', sep=\",\", header=None)\n",
        "x = untouchedData.drop(columns=[21])\n",
        "y = untouchedData[21]\n",
        "testDataIndex = untouchedData.sample(1000).index\n",
        "testData = untouchedData.loc[testDataIndex]\n",
        "data = untouchedData.drop(index=testDataIndex)\n",
        "xTrain = data.drop(columns=[21])\n",
        "yTrain = data[21]\n",
        "xTest = testData.drop(columns=[21])\n",
        "yTest = testData[21]"
      ]
    },
    {
      "cell_type": "markdown",
      "source": [
        "## Part 1\n"
      ],
      "metadata": {
        "id": "8vMwjsNUuuHP"
      }
    },
    {
      "cell_type": "code",
      "source": [
        "%matplotlib inline\n",
        "# choose k between 1 to 31\n",
        "kRange = range(1, 50)\n",
        "kScores = []\n",
        "# use iteration to caclulator different k in models, then return the average accuracy based on the cross validation\n",
        "for k in kRange:\n",
        "    knn = KNeighborsClassifier(n_neighbors=k, algorithm=\"brute\")\n",
        "    scores = cross_val_score(knn, xTrain, yTrain, cv=5, scoring='accuracy')\n",
        "    kScores.append(scores.mean())\n",
        "# plot for visual comparison\n",
        "plt.plot(kRange, kScores)\n",
        "plt.xlabel('Value of K')\n",
        "plt.ylabel('Average Cross-Validated Accuracy')\n",
        "plt.show()\n",
        "print(\"Maximum accuracy \"+str(max(kScores))+\" with k=\"+str(kRange[kScores.index(max(kScores))]))"
      ],
      "metadata": {
        "colab": {
          "base_uri": "https://localhost:8080/",
          "height": 296
        },
        "id": "Hiqt4Cr7MqA1",
        "outputId": "e344e9c9-137a-44c8-cd9d-a661d7082055"
      },
      "execution_count": null,
      "outputs": [
        {
          "output_type": "display_data",
          "data": {
            "text/plain": [
              "<Figure size 432x288 with 1 Axes>"
            ],
            "image/png": "[encoded data removed]"
          },
          "metadata": {
            "needs_background": "light"
          }
        },
        {
          "output_type": "stream",
          "name": "stdout",
          "text": [
            "Maximum accuracy 0.8524999999999998 with k=49\n"
          ]
        }
      ]
    },
    {
      "cell_type": "markdown",
      "source": [
        "## Part 2"
      ],
      "metadata": {
        "id": "eRow_vsJuvQI"
      }
    },
    {
      "cell_type": "code",
      "source": [
        "knn = KNeighborsClassifier(n_neighbors=1, algorithm=\"brute\")\n",
        "knn.fit(xTrain, yTrain)\n",
        "print('Accuracy before data reduction: ', knn.score(xTest, yTest))\n",
        "changeMade = True\n",
        "x1, x2, y1, y2 = train_test_split(xTrain, yTrain, test_size=0.5, random_state=1)\n",
        "dataCleaningKnn = KNeighborsClassifier(n_neighbors=1, algorithm=\"brute\")\n",
        "# Step 1\n",
        "while changeMade:\n",
        "    x1.reset_index(drop=True, inplace=True)\n",
        "    x2.reset_index(drop=True, inplace=True)\n",
        "    y1.reset_index(drop=True, inplace=True)\n",
        "    y2.reset_index(drop=True, inplace=True)\n",
        "    initialSize = len(y1) + len(y2)\n",
        "\n",
        "    dataCleaningKnn.fit(x2, y2)\n",
        "    prediction = dataCleaningKnn.predict(x1)\n",
        "    removeList = []\n",
        "    for i in range(len(prediction)):\n",
        "        if prediction[i] != y1[i]:\n",
        "            removeList.append(i)\n",
        "    x1.drop(index=removeList, inplace=True)\n",
        "    y1.drop(index=removeList, inplace=True)\n",
        "\n",
        "\n",
        "    dataCleaningKnn.fit(x1, y1)\n",
        "    prediction = dataCleaningKnn.predict(x2)\n",
        "    removeList = []\n",
        "    for i in range(len(prediction)):\n",
        "        if prediction[i] != y2[i]:\n",
        "            removeList.append(i)\n",
        "    x2.drop(index=removeList, inplace=True)\n",
        "    y2.drop(index=removeList, inplace=True)\n",
        "\n",
        "    if len(y1) + len(y2) == initialSize:\n",
        "        changeMade = False\n",
        "\n",
        "newX = pd.concat([x1, x2], ignore_index=True, axis=0)\n",
        "newY = pd.concat([y1, y2], ignore_index=True, axis=0)\n",
        "knn = KNeighborsClassifier(n_neighbors=1, algorithm=\"brute\")\n",
        "knn.fit(newX, newY)\n",
        "\n",
        "print('Accuracy after first step: ', knn.score(xTest, yTest))\n",
        "\n",
        "# Second step\n",
        "changeMade = True\n",
        "goodOnes = []\n",
        "goodOnes.append(random.randint(0,len(newY)))\n",
        "while changeMade:\n",
        "    changeMade = False\n",
        "    for i in newX.index:\n",
        "        if i in goodOnes:\n",
        "            goodOnes.remove(i)\n",
        "            dataCleaningKnn.fit(newX.loc[goodOnes], newY.loc[goodOnes])\n",
        "            goodOnes.append(i)\n",
        "        else:\n",
        "            dataCleaningKnn.fit(newX.loc[goodOnes], newY.loc[goodOnes])\n",
        "        if dataCleaningKnn.predict([newX.loc[i]])[0] != newY.loc[i]:\n",
        "            if i not in goodOnes:\n",
        "                goodOnes.append(i)\n",
        "                changeMade = True\n",
        "        else:\n",
        "            if i in goodOnes:\n",
        "                goodOnes.remove(i)\n",
        "                changeMade = True\n",
        "        print(\"\\rNumber of good samples at this stage: \"+str(len(goodOnes)), end=\"\")\n",
        "\n",
        "knn = KNeighborsClassifier(n_neighbors=1, algorithm=\"brute\")\n",
        "knn.fit(newX.loc[goodOnes], newY.loc[goodOnes])\n",
        "print()\n",
        "print('The final accuracy: ', knn.score(xTest, yTest))"
      ],
      "metadata": {
        "colab": {
          "base_uri": "https://localhost:8080/"
        },
        "id": "YiotfG7WO9ba",
        "outputId": "0ec4b02f-2ada-424b-e464-938e0536d172"
      },
      "execution_count": null,
      "outputs": [
        {
          "output_type": "stream",
          "name": "stdout",
          "text": [
            "Accuracy before data reduction:  0.801\n",
            "Accuracy after first step:  0.812\n",
            "Number of good samples at this stage: 578\n",
            "The final accuracy:  0.765\n"
          ]
        }
      ]
    },
    {
      "cell_type": "markdown",
      "source": [
        "## Part 3"
      ],
      "metadata": {
        "id": "jMNeY4Byu1aA"
      }
    },
    {
      "cell_type": "code",
      "source": [
        "# Not testing the accuracy -> Using all the data for train and prediction since the performances are in O(n^2) vs O(n*logn) and not that much difference in small n\n",
        "# Brute Force\n",
        "knn = KNeighborsClassifier(n_neighbors=1, algorithm=\"brute\")\n",
        "start = datetime.now()\n",
        "knn.fit(x, y)\n",
        "lenght = int((datetime.now() - start).total_seconds()*100000)/100\n",
        "\n",
        "print(\"Brute Force:\")\n",
        "print(\"Training time: \"+str(lenght)+\"ms\")\n",
        "\n",
        "start = datetime.now()\n",
        "knn.predict(x)\n",
        "lenght = int((datetime.now() - start).total_seconds()*100000)/100\n",
        "\n",
        "print(\"Test time: \"+str(lenght)+\"ms\")\n",
        "print(\"_\"*40)\n",
        "\n",
        "# Ball Tree\n",
        "knn = KNeighborsClassifier(n_neighbors=1, algorithm=\"ball_tree\")\n",
        "start = datetime.now()\n",
        "knn.fit(x, y)\n",
        "lenght = int((datetime.now() - start).total_seconds()*100000)/100\n",
        "\n",
        "print(\"Ball Tree:\")\n",
        "print(\"Training time: \"+str(lenght)+\"ms\")\n",
        "\n",
        "start = datetime.now()\n",
        "knn.predict(x)\n",
        "lenght = int((datetime.now() - start).total_seconds()*100000)/100\n",
        "\n",
        "print(\"Test time: \"+str(lenght)+\"ms\")\n",
        "print(\"_\"*40)\n",
        "\n",
        "# KD Tree\n",
        "knn = KNeighborsClassifier(n_neighbors=1, algorithm=\"kd_tree\")\n",
        "start = datetime.now()\n",
        "knn.fit(x, y)\n",
        "lenght = int((datetime.now() - start).total_seconds()*100000)/100\n",
        "\n",
        "print(\"KD Tree:\")\n",
        "print(\"Training time: \"+str(lenght)+\"ms\")\n",
        "\n",
        "start = datetime.now()\n",
        "knn.predict(x)\n",
        "lenght = int((datetime.now() - start).total_seconds()*100000)/100\n",
        "\n",
        "print(\"Test time: \"+str(lenght)+\"ms\")"
      ],
      "metadata": {
        "colab": {
          "base_uri": "https://localhost:8080/"
        },
        "id": "xix5FVLBu2uZ",
        "outputId": "b3d174b9-d982-41dd-915e-224a7150d2a5"
      },
      "execution_count": null,
      "outputs": [
        {
          "output_type": "stream",
          "name": "stdout",
          "text": [
            "Brute Force:\n",
            "Training time: 3.54ms\n",
            "Test time: 579.04ms\n",
            "________________________________________\n",
            "Ball Tree:\n",
            "Training time: 11.26ms\n",
            "Test time: 507.23ms\n",
            "________________________________________\n",
            "KD Tree:\n",
            "Training time: 14.36ms\n",
            "Test time: 152.47ms\n"
          ]
        }
      ]
    },
    {
      "cell_type": "markdown",
      "source": [
        "## Part 4"
      ],
      "metadata": {
        "id": "6Qyyh1D13lnW"
      }
    },
    {
      "cell_type": "code",
      "source": [
        "totalDataCount = data[data[21]==0].shape[0]\n",
        "classIndexes = data[data[21]==0].sample(int(totalDataCount*0.8)).index\n",
        "unbalanceData = data.drop(index=classIndexes)\n",
        "\n",
        "xTrain = unbalanceData.drop(columns=[21])\n",
        "yTrain = unbalanceData[21]\n",
        "\n",
        "kRange = range(1, 50)\n",
        "f1Scores = []\n",
        "kScores = []\n",
        "# use iteration to caclulator different k in models, then return the average accuracy and f1 score\n",
        "for k in kRange:\n",
        "    knn = KNeighborsClassifier(n_neighbors=k, algorithm=\"brute\")\n",
        "    knn.fit(xTrain, yTrain)\n",
        "    f1Score = f1_score(yTest, knn.predict(xTest), average='weighted')\n",
        "    accuracy = knn.score(xTest, yTest)\n",
        "    f1Scores.append(f1Score)\n",
        "    kScores.append(accuracy)\n",
        "# plot for visual comparison\n",
        "plt.plot(kRange, kScores,label=\"Accuracy\")\n",
        "plt.plot(kRange, f1Scores, label=\"F1 Score\")\n",
        "plt.legend()\n",
        "plt.xlabel('Value of K')\n",
        "plt.ylabel('F1 Score - Accuracy')\n",
        "plt.show()"
      ],
      "metadata": {
        "colab": {
          "base_uri": "https://localhost:8080/",
          "height": 279
        },
        "id": "CSNO5p0A3V0J",
        "outputId": "26a93e0d-121e-4483-a9eb-905a98bf7f1b"
      },
      "execution_count": null,
      "outputs": [
        {
          "output_type": "display_data",
          "data": {
            "text/plain": [
              "<Figure size 432x288 with 1 Axes>"
            ],
            "image/png": "[encoded data removed]"
          },
          "metadata": {
            "needs_background": "light"
          }
        }
      ]
    }
  ]
}